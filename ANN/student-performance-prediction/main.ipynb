{
 "cells": [
  {
   "cell_type": "markdown",
   "metadata": {},
   "source": [
    "# Student Pass/Fail Classification using ANN\n",
    "## Using nn.Linear and nn.ReLU for Binary Classification"
   ]
  },
  {
   "cell_type": "markdown",
   "metadata": {},
   "source": [
    "### 1. Import Required Libraries"
   ]
  },
  {
   "cell_type": "code",
   "execution_count": 1,
   "metadata": {},
   "outputs": [],
   "source": [
    "import torch\n",
    "import torch.nn as nn\n",
    "import torch.optim as optim\n",
    "from torch.utils.data import Dataset, DataLoader\n",
    "import pandas as pd\n",
    "import numpy as np\n",
    "from sklearn.model_selection import train_test_split\n",
    "from sklearn.preprocessing import LabelEncoder, StandardScaler\n",
    "from sklearn.metrics import accuracy_score, classification_report, confusion_matrix\n",
    "import matplotlib.pyplot as plt\n",
    "import seaborn as sns\n",
    "\n",
    "# Set random seed for reproducibility\n",
    "torch.manual_seed(42)\n",
    "np.random.seed(42)"
   ]
  },
  {
   "cell_type": "markdown",
   "metadata": {},
   "source": [
    "### 2. Load and Explore the Dataset"
   ]
  },
  {
   "cell_type": "code",
   "execution_count": 2,
   "metadata": {},
   "outputs": [
    {
     "name": "stdout",
     "output_type": "stream",
     "text": [
      "Dataset shape: (708, 10)\n",
      "\n",
      "First few rows:\n"
     ]
    },
    {
     "data": {
      "text/html": [
       "<div>\n",
       "<style scoped>\n",
       "    .dataframe tbody tr th:only-of-type {\n",
       "        vertical-align: middle;\n",
       "    }\n",
       "\n",
       "    .dataframe tbody tr th {\n",
       "        vertical-align: top;\n",
       "    }\n",
       "\n",
       "    .dataframe thead th {\n",
       "        text-align: right;\n",
       "    }\n",
       "</style>\n",
       "<table border=\"1\" class=\"dataframe\">\n",
       "  <thead>\n",
       "    <tr style=\"text-align: right;\">\n",
       "      <th></th>\n",
       "      <th>Student_ID</th>\n",
       "      <th>Gender</th>\n",
       "      <th>Study_Hours_per_Week</th>\n",
       "      <th>Attendance_Rate</th>\n",
       "      <th>Past_Exam_Scores</th>\n",
       "      <th>Parental_Education_Level</th>\n",
       "      <th>Internet_Access_at_Home</th>\n",
       "      <th>Extracurricular_Activities</th>\n",
       "      <th>Final_Exam_Score</th>\n",
       "      <th>Pass_Fail</th>\n",
       "    </tr>\n",
       "  </thead>\n",
       "  <tbody>\n",
       "    <tr>\n",
       "      <th>0</th>\n",
       "      <td>S147</td>\n",
       "      <td>Male</td>\n",
       "      <td>31</td>\n",
       "      <td>68.267841</td>\n",
       "      <td>86</td>\n",
       "      <td>High School</td>\n",
       "      <td>Yes</td>\n",
       "      <td>Yes</td>\n",
       "      <td>63</td>\n",
       "      <td>Pass</td>\n",
       "    </tr>\n",
       "    <tr>\n",
       "      <th>1</th>\n",
       "      <td>S136</td>\n",
       "      <td>Male</td>\n",
       "      <td>16</td>\n",
       "      <td>78.222927</td>\n",
       "      <td>73</td>\n",
       "      <td>PhD</td>\n",
       "      <td>No</td>\n",
       "      <td>No</td>\n",
       "      <td>50</td>\n",
       "      <td>Fail</td>\n",
       "    </tr>\n",
       "    <tr>\n",
       "      <th>2</th>\n",
       "      <td>S209</td>\n",
       "      <td>Female</td>\n",
       "      <td>21</td>\n",
       "      <td>87.525096</td>\n",
       "      <td>74</td>\n",
       "      <td>PhD</td>\n",
       "      <td>Yes</td>\n",
       "      <td>No</td>\n",
       "      <td>55</td>\n",
       "      <td>Fail</td>\n",
       "    </tr>\n",
       "    <tr>\n",
       "      <th>3</th>\n",
       "      <td>S458</td>\n",
       "      <td>Female</td>\n",
       "      <td>27</td>\n",
       "      <td>92.076483</td>\n",
       "      <td>99</td>\n",
       "      <td>Bachelors</td>\n",
       "      <td>No</td>\n",
       "      <td>No</td>\n",
       "      <td>65</td>\n",
       "      <td>Pass</td>\n",
       "    </tr>\n",
       "    <tr>\n",
       "      <th>4</th>\n",
       "      <td>S078</td>\n",
       "      <td>Female</td>\n",
       "      <td>37</td>\n",
       "      <td>98.655517</td>\n",
       "      <td>63</td>\n",
       "      <td>Masters</td>\n",
       "      <td>No</td>\n",
       "      <td>Yes</td>\n",
       "      <td>70</td>\n",
       "      <td>Pass</td>\n",
       "    </tr>\n",
       "  </tbody>\n",
       "</table>\n",
       "</div>"
      ],
      "text/plain": [
       "  Student_ID  Gender  Study_Hours_per_Week  Attendance_Rate  Past_Exam_Scores  \\\n",
       "0       S147    Male                    31        68.267841                86   \n",
       "1       S136    Male                    16        78.222927                73   \n",
       "2       S209  Female                    21        87.525096                74   \n",
       "3       S458  Female                    27        92.076483                99   \n",
       "4       S078  Female                    37        98.655517                63   \n",
       "\n",
       "  Parental_Education_Level Internet_Access_at_Home Extracurricular_Activities  \\\n",
       "0              High School                     Yes                        Yes   \n",
       "1                      PhD                      No                         No   \n",
       "2                      PhD                     Yes                         No   \n",
       "3                Bachelors                      No                         No   \n",
       "4                  Masters                      No                        Yes   \n",
       "\n",
       "   Final_Exam_Score Pass_Fail  \n",
       "0                63      Pass  \n",
       "1                50      Fail  \n",
       "2                55      Fail  \n",
       "3                65      Pass  \n",
       "4                70      Pass  "
      ]
     },
     "execution_count": 2,
     "metadata": {},
     "output_type": "execute_result"
    }
   ],
   "source": [
    "# Load the dataset\n",
    "df = pd.read_csv('student_performance_dataset.csv')\n",
    "print(f\"Dataset shape: {df.shape}\")\n",
    "print(f\"\\nFirst few rows:\")\n",
    "df.head()"
   ]
  },
  {
   "cell_type": "code",
   "execution_count": 3,
   "metadata": {},
   "outputs": [
    {
     "name": "stdout",
     "output_type": "stream",
     "text": [
      "Dataset info:\n",
      "<class 'pandas.core.frame.DataFrame'>\n",
      "RangeIndex: 708 entries, 0 to 707\n",
      "Data columns (total 10 columns):\n",
      " #   Column                      Non-Null Count  Dtype  \n",
      "---  ------                      --------------  -----  \n",
      " 0   Student_ID                  708 non-null    object \n",
      " 1   Gender                      708 non-null    object \n",
      " 2   Study_Hours_per_Week        708 non-null    int64  \n",
      " 3   Attendance_Rate             708 non-null    float64\n",
      " 4   Past_Exam_Scores            708 non-null    int64  \n",
      " 5   Parental_Education_Level    708 non-null    object \n",
      " 6   Internet_Access_at_Home     708 non-null    object \n",
      " 7   Extracurricular_Activities  708 non-null    object \n",
      " 8   Final_Exam_Score            708 non-null    int64  \n",
      " 9   Pass_Fail                   708 non-null    object \n",
      "dtypes: float64(1), int64(3), object(6)\n",
      "memory usage: 55.4+ KB\n",
      "\n",
      "Target distribution:\n"
     ]
    },
    {
     "data": {
      "text/plain": [
       "Pass_Fail\n",
       "Pass    354\n",
       "Fail    354\n",
       "Name: count, dtype: int64"
      ]
     },
     "execution_count": 3,
     "metadata": {},
     "output_type": "execute_result"
    }
   ],
   "source": [
    "# Dataset information\n",
    "print(\"Dataset info:\")\n",
    "df.info()\n",
    "print(\"\\nTarget distribution:\")\n",
    "df['Pass_Fail'].value_counts()"
   ]
  },
  {
   "cell_type": "markdown",
   "metadata": {},
   "source": [
    "### 3. Data Preprocessing"
   ]
  },
  {
   "cell_type": "code",
   "execution_count": 4,
   "metadata": {},
   "outputs": [
    {
     "name": "stdout",
     "output_type": "stream",
     "text": [
      "Gender: {'Female': np.int64(0), 'Male': np.int64(1)}\n",
      "Parental_Education_Level: {'Bachelors': np.int64(0), 'High School': np.int64(1), 'Masters': np.int64(2), 'PhD': np.int64(3)}\n",
      "Internet_Access_at_Home: {'No': np.int64(0), 'Yes': np.int64(1)}\n",
      "Extracurricular_Activities: {'No': np.int64(0), 'Yes': np.int64(1)}\n",
      "Pass_Fail: {'Fail': np.int64(0), 'Pass': np.int64(1)}\n"
     ]
    }
   ],
   "source": [
    "# Encode categorical variables\n",
    "label_encoders = {}\n",
    "categorical_columns = ['Gender', 'Parental_Education_Level', 'Internet_Access_at_Home', \n",
    "                       'Extracurricular_Activities']\n",
    "\n",
    "for col in categorical_columns:\n",
    "    le = LabelEncoder()\n",
    "    df[col] = le.fit_transform(df[col])\n",
    "    label_encoders[col] = le\n",
    "    print(f\"{col}: {dict(zip(le.classes_, le.transform(le.classes_)))}\")\n",
    "\n",
    "# Encode target variable\n",
    "target_encoder = LabelEncoder()\n",
    "df['Pass_Fail'] = target_encoder.fit_transform(df['Pass_Fail'])\n",
    "print(f\"Pass_Fail: {dict(zip(target_encoder.classes_, target_encoder.transform(target_encoder.classes_)))}\")"
   ]
  },
  {
   "cell_type": "code",
   "execution_count": 5,
   "metadata": {},
   "outputs": [
    {
     "name": "stdout",
     "output_type": "stream",
     "text": [
      "Features shape: (708, 8)\n",
      "Target shape: (708,)\n"
     ]
    }
   ],
   "source": [
    "# Select features (excluding Student_ID and target)\n",
    "feature_columns = ['Gender', 'Study_Hours_per_Week', 'Attendance_Rate', \n",
    "                   'Past_Exam_Scores', 'Parental_Education_Level', \n",
    "                   'Internet_Access_at_Home', 'Extracurricular_Activities', \n",
    "                   'Final_Exam_Score']\n",
    "\n",
    "X = df[feature_columns].values\n",
    "y = df['Pass_Fail'].values\n",
    "\n",
    "print(f\"Features shape: {X.shape}\")\n",
    "print(f\"Target shape: {y.shape}\")"
   ]
  },
  {
   "cell_type": "code",
   "execution_count": null,
   "metadata": {},
   "outputs": [
    {
     "name": "stdout",
     "output_type": "stream",
     "text": [
      "Train set: (566, 8), Test set: (142, 8)\n",
      "Data preprocessing completed!\n"
     ]
    }
   ],
   "source": [
    "# Split the data\n",
    "# stratify is used to maintain the same distribution of classes in train and test sets\n",
    "X_train, X_test, y_train, y_test = train_test_split(X, y, test_size=0.2, random_state=42, stratify=y)\n",
    "print(f\"Train set: {X_train.shape}, Test set: {X_test.shape}\")\n",
    "\n",
    "# Standardize features\n",
    "scaler = StandardScaler()\n",
    "X_train = scaler.fit_transform(X_train)\n",
    "X_test = scaler.transform(X_test)\n",
    "\n",
    "# Convert to PyTorch tensors\n",
    "X_train_tensor = torch.FloatTensor(X_train)\n",
    "y_train_tensor = torch.LongTensor(y_train)\n",
    "X_test_tensor = torch.FloatTensor(X_test)\n",
    "y_test_tensor = torch.LongTensor(y_test)\n",
    "\n",
    "print(\"Data preprocessing completed!\")"
   ]
  },
  {
   "cell_type": "markdown",
   "metadata": {},
   "source": [
    "### 4. Create Dataset and DataLoader"
   ]
  },
  {
   "cell_type": "code",
   "execution_count": 7,
   "metadata": {},
   "outputs": [
    {
     "name": "stdout",
     "output_type": "stream",
     "text": [
      "Number of training batches: 18\n",
      "Number of test batches: 5\n"
     ]
    }
   ],
   "source": [
    "# Create custom Dataset\n",
    "class StudentDataset(Dataset):\n",
    "    def __init__(self, X, y):\n",
    "        self.X = X\n",
    "        self.y = y\n",
    "    \n",
    "    def __len__(self):\n",
    "        return len(self.X)\n",
    "    \n",
    "    def __getitem__(self, idx):\n",
    "        return self.X[idx], self.y[idx]\n",
    "\n",
    "# Create DataLoaders\n",
    "train_dataset = StudentDataset(X_train_tensor, y_train_tensor)\n",
    "test_dataset = StudentDataset(X_test_tensor, y_test_tensor)\n",
    "\n",
    "batch_size = 32\n",
    "train_loader = DataLoader(train_dataset, batch_size=batch_size, shuffle=True)\n",
    "test_loader = DataLoader(test_dataset, batch_size=batch_size, shuffle=False)\n",
    "\n",
    "print(f\"Number of training batches: {len(train_loader)}\")\n",
    "print(f\"Number of test batches: {len(test_loader)}\")"
   ]
  },
  {
   "cell_type": "markdown",
   "metadata": {},
   "source": [
    "### 5. Define the ANN Model using nn.Linear and nn.ReLU"
   ]
  },
  {
   "cell_type": "code",
   "execution_count": 8,
   "metadata": {},
   "outputs": [
    {
     "name": "stdout",
     "output_type": "stream",
     "text": [
      "Model Architecture:\n",
      "StudentANN(\n",
      "  (fc1): Linear(in_features=8, out_features=64, bias=True)\n",
      "  (relu1): ReLU()\n",
      "  (fc2): Linear(in_features=64, out_features=32, bias=True)\n",
      "  (relu2): ReLU()\n",
      "  (fc3): Linear(in_features=32, out_features=16, bias=True)\n",
      "  (relu3): ReLU()\n",
      "  (fc4): Linear(in_features=16, out_features=2, bias=True)\n",
      ")\n",
      "\n",
      "Total parameters: 3218\n"
     ]
    }
   ],
   "source": [
    "class StudentANN(nn.Module):\n",
    "    def __init__(self, input_size, hidden_size1=64, hidden_size2=32, hidden_size3=16, output_size=2):\n",
    "        super(StudentANN, self).__init__()\n",
    "        \n",
    "        # Define layers using nn.Linear\n",
    "        self.fc1 = nn.Linear(input_size, hidden_size1)\n",
    "        self.relu1 = nn.ReLU()\n",
    "        \n",
    "        self.fc2 = nn.Linear(hidden_size1, hidden_size2)\n",
    "        self.relu2 = nn.ReLU()\n",
    "        \n",
    "        self.fc3 = nn.Linear(hidden_size2, hidden_size3)\n",
    "        self.relu3 = nn.ReLU()\n",
    "        \n",
    "        self.fc4 = nn.Linear(hidden_size3, output_size)\n",
    "        \n",
    "    def forward(self, x):\n",
    "        # Forward pass through the network\n",
    "        x = self.fc1(x)\n",
    "        x = self.relu1(x)\n",
    "        \n",
    "        x = self.fc2(x)\n",
    "        x = self.relu2(x)\n",
    "        \n",
    "        x = self.fc3(x)\n",
    "        x = self.relu3(x)\n",
    "        \n",
    "        x = self.fc4(x)\n",
    "        return x\n",
    "\n",
    "# Initialize the model\n",
    "input_size = X_train.shape[1]\n",
    "model = StudentANN(input_size=input_size)\n",
    "\n",
    "print(\"Model Architecture:\")\n",
    "print(model)\n",
    "print(f\"\\nTotal parameters: {sum(p.numel() for p in model.parameters())}\")"
   ]
  },
  {
   "cell_type": "markdown",
   "metadata": {},
   "source": [
    "### 6. Define Loss Function and Optimizer"
   ]
  },
  {
   "cell_type": "code",
   "execution_count": 9,
   "metadata": {},
   "outputs": [
    {
     "name": "stdout",
     "output_type": "stream",
     "text": [
      "Loss function: CrossEntropyLoss\n",
      "Optimizer: Adam with learning rate 0.001\n"
     ]
    }
   ],
   "source": [
    "# Define loss function and optimizer\n",
    "criterion = nn.CrossEntropyLoss()\n",
    "optimizer = optim.Adam(model.parameters(), lr=0.001)\n",
    "\n",
    "print(\"Loss function: CrossEntropyLoss\")\n",
    "print(\"Optimizer: Adam with learning rate 0.001\")"
   ]
  },
  {
   "cell_type": "markdown",
   "metadata": {},
   "source": [
    "### 7. Train the Model"
   ]
  },
  {
   "cell_type": "code",
   "execution_count": 10,
   "metadata": {},
   "outputs": [
    {
     "name": "stdout",
     "output_type": "stream",
     "text": [
      "Training the model...\n",
      "Epoch [10/100], Loss: 0.0426, Accuracy: 99.65%\n",
      "Epoch [20/100], Loss: 0.0075, Accuracy: 100.00%\n",
      "Epoch [30/100], Loss: 0.0023, Accuracy: 100.00%\n",
      "Epoch [40/100], Loss: 0.0010, Accuracy: 100.00%\n",
      "Epoch [50/100], Loss: 0.0006, Accuracy: 100.00%\n",
      "Epoch [60/100], Loss: 0.0004, Accuracy: 100.00%\n",
      "Epoch [70/100], Loss: 0.0002, Accuracy: 100.00%\n",
      "Epoch [80/100], Loss: 0.0002, Accuracy: 100.00%\n",
      "Epoch [90/100], Loss: 0.0001, Accuracy: 100.00%\n",
      "Epoch [100/100], Loss: 0.0001, Accuracy: 100.00%\n"
     ]
    }
   ],
   "source": [
    "# Training function\n",
    "def train_model(model, train_loader, criterion, optimizer, num_epochs=100):\n",
    "    train_losses = []\n",
    "    train_accuracies = []\n",
    "    \n",
    "    print(\"Training the model...\")\n",
    "    \n",
    "    for epoch in range(num_epochs):\n",
    "        model.train()\n",
    "        running_loss = 0.0\n",
    "        correct = 0\n",
    "        total = 0\n",
    "        \n",
    "        for inputs, labels in train_loader:\n",
    "            # Zero the parameter gradients\n",
    "            optimizer.zero_grad()\n",
    "            \n",
    "            # Forward pass\n",
    "            outputs = model(inputs)\n",
    "            loss = criterion(outputs, labels)\n",
    "            \n",
    "            # Backward pass and optimization\n",
    "            loss.backward()\n",
    "            optimizer.step()\n",
    "            \n",
    "            # Statistics\n",
    "            running_loss += loss.item()\n",
    "            _, predicted = torch.max(outputs.data, 1)\n",
    "            total += labels.size(0)\n",
    "            correct += (predicted == labels).sum().item()\n",
    "        \n",
    "        epoch_loss = running_loss / len(train_loader)\n",
    "        epoch_acc = 100 * correct / total\n",
    "        train_losses.append(epoch_loss)\n",
    "        train_accuracies.append(epoch_acc)\n",
    "        \n",
    "        if (epoch + 1) % 10 == 0:\n",
    "            print(f'Epoch [{epoch+1}/{num_epochs}], Loss: {epoch_loss:.4f}, Accuracy: {epoch_acc:.2f}%')\n",
    "    \n",
    "    return train_losses, train_accuracies\n",
    "\n",
    "# Train the model\n",
    "train_losses, train_accuracies = train_model(model, train_loader, criterion, optimizer, num_epochs=100)"
   ]
  },
  {
   "cell_type": "markdown",
   "metadata": {},
   "source": [
    "### 8. Evaluate the Model"
   ]
  },
  {
   "cell_type": "code",
   "execution_count": 11,
   "metadata": {},
   "outputs": [
    {
     "name": "stdout",
     "output_type": "stream",
     "text": [
      "Test Accuracy: 99.30%\n",
      "\n",
      "Classification Report:\n",
      "              precision    recall  f1-score   support\n",
      "\n",
      "        Fail       0.99      1.00      0.99        71\n",
      "        Pass       1.00      0.99      0.99        71\n",
      "\n",
      "    accuracy                           0.99       142\n",
      "   macro avg       0.99      0.99      0.99       142\n",
      "weighted avg       0.99      0.99      0.99       142\n",
      "\n",
      "\n",
      "Confusion Matrix:\n",
      "[[71  0]\n",
      " [ 1 70]]\n"
     ]
    }
   ],
   "source": [
    "# Evaluation function\n",
    "def evaluate_model(model, test_loader):\n",
    "    model.eval()\n",
    "    all_predictions = []\n",
    "    all_labels = []\n",
    "    \n",
    "    with torch.no_grad():\n",
    "        for inputs, labels in test_loader:\n",
    "            outputs = model(inputs)\n",
    "            _, predicted = torch.max(outputs.data, 1)\n",
    "            all_predictions.extend(predicted.numpy())\n",
    "            all_labels.extend(labels.numpy())\n",
    "    \n",
    "    return np.array(all_predictions), np.array(all_labels)\n",
    "\n",
    "# Evaluate on test set\n",
    "y_pred, y_true = evaluate_model(model, test_loader)\n",
    "test_accuracy = accuracy_score(y_true, y_pred)\n",
    "\n",
    "print(f\"Test Accuracy: {test_accuracy * 100:.2f}%\")\n",
    "print(\"\\nClassification Report:\")\n",
    "print(classification_report(y_true, y_pred, target_names=target_encoder.classes_))\n",
    "\n",
    "# Confusion Matrix\n",
    "cm = confusion_matrix(y_true, y_pred)\n",
    "print(\"\\nConfusion Matrix:\")\n",
    "print(cm)"
   ]
  },
  {
   "cell_type": "markdown",
   "metadata": {},
   "source": [
    "### 9. Visualize Results"
   ]
  },
  {
   "cell_type": "code",
   "execution_count": 12,
   "metadata": {},
   "outputs": [
    {
     "data": {
      "image/png": "[encoded data removed]",
      "text/plain": [
       "<Figure size 1400x500 with 2 Axes>"
      ]
     },
     "metadata": {},
     "output_type": "display_data"
    }
   ],
   "source": [
    "# Training Loss and Accuracy\n",
    "fig, (ax1, ax2) = plt.subplots(1, 2, figsize=(14, 5))\n",
    "\n",
    "ax1.plot(train_losses, label='Training Loss', color='blue')\n",
    "ax1.set_xlabel('Epoch')\n",
    "ax1.set_ylabel('Loss')\n",
    "ax1.set_title('Training Loss over Epochs')\n",
    "ax1.legend()\n",
    "ax1.grid(True, alpha=0.3)\n",
    "\n",
    "ax2.plot(train_accuracies, label='Training Accuracy', color='green')\n",
    "ax2.set_xlabel('Epoch')\n",
    "ax2.set_ylabel('Accuracy (%)')\n",
    "ax2.set_title('Training Accuracy over Epochs')\n",
    "ax2.legend()\n",
    "ax2.grid(True, alpha=0.3)\n",
    "\n",
    "plt.tight_layout()\n",
    "plt.show()"
   ]
  },
  {
   "cell_type": "code",
   "execution_count": 13,
   "metadata": {},
   "outputs": [
    {
     "data": {
      "image/png": "[encoded data removed]",
      "text/plain": [
       "<Figure size 800x600 with 2 Axes>"
      ]
     },
     "metadata": {},
     "output_type": "display_data"
    }
   ],
   "source": [
    "# Confusion Matrix Heatmap\n",
    "plt.figure(figsize=(8, 6))\n",
    "sns.heatmap(cm, annot=True, fmt='d', cmap='Blues', \n",
    "            xticklabels=target_encoder.classes_, \n",
    "            yticklabels=target_encoder.classes_)\n",
    "plt.xlabel('Predicted')\n",
    "plt.ylabel('Actual')\n",
    "plt.title('Confusion Matrix - Student Pass/Fail Classification')\n",
    "plt.tight_layout()\n",
    "plt.show()"
   ]
  },
  {
   "cell_type": "markdown",
   "metadata": {},
   "source": [
    "### 10. Save the Model"
   ]
  },
  {
   "cell_type": "code",
   "execution_count": 14,
   "metadata": {},
   "outputs": [
    {
     "name": "stdout",
     "output_type": "stream",
     "text": [
      "Model saved: student_ann_model.pth\n",
      "Preprocessing objects saved: preprocessing_objects.pkl\n"
     ]
    }
   ],
   "source": [
    "# Save the model\n",
    "torch.save(model.state_dict(), 'student_ann_model.pth')\n",
    "print(\"Model saved: student_ann_model.pth\")\n",
    "\n",
    "# Save preprocessing objects\n",
    "import pickle\n",
    "preprocessing_objects = {\n",
    "    'scaler': scaler,\n",
    "    'label_encoders': label_encoders,\n",
    "    'target_encoder': target_encoder,\n",
    "    'feature_columns': feature_columns\n",
    "}\n",
    "with open('preprocessing_objects.pkl', 'wb') as f:\n",
    "    pickle.dump(preprocessing_objects, f)\n",
    "print(\"Preprocessing objects saved: preprocessing_objects.pkl\")"
   ]
  },
  {
   "cell_type": "markdown",
   "metadata": {},
   "source": [
    "### 11. Make Predictions on New Data (Example)"
   ]
  },
  {
   "cell_type": "code",
   "execution_count": 16,
   "metadata": {},
   "outputs": [
    {
     "name": "stdout",
     "output_type": "stream",
     "text": [
      "Prediction for example student: Fail\n"
     ]
    }
   ],
   "source": [
    "# Example: Make prediction on a new student\n",
    "# Features: Gender, Study_Hours_per_Week, Attendance_Rate, Past_Exam_Scores, \n",
    "#           Parental_Education_Level, Internet_Access_at_Home, Extracurricular_Activities, Final_Exam_Score\n",
    "\n",
    "# Example student data (before encoding)\n",
    "example_student = {\n",
    "    'Gender': 'Male',\n",
    "    'Study_Hours_per_Week': 1,\n",
    "    'Attendance_Rate': 85.5,\n",
    "    'Past_Exam_Scores': 78,\n",
    "    'Parental_Education_Level': 'Bachelors',\n",
    "    'Internet_Access_at_Home': 'Yes',\n",
    "    'Extracurricular_Activities': 'Yes',\n",
    "    'Final_Exam_Score': 30\n",
    "}\n",
    "\n",
    "# Encode the example\n",
    "example_encoded = [\n",
    "    label_encoders['Gender'].transform([example_student['Gender']])[0],\n",
    "    example_student['Study_Hours_per_Week'],\n",
    "    example_student['Attendance_Rate'],\n",
    "    example_student['Past_Exam_Scores'],\n",
    "    label_encoders['Parental_Education_Level'].transform([example_student['Parental_Education_Level']])[0],\n",
    "    label_encoders['Internet_Access_at_Home'].transform([example_student['Internet_Access_at_Home']])[0],\n",
    "    label_encoders['Extracurricular_Activities'].transform([example_student['Extracurricular_Activities']])[0],\n",
    "    example_student['Final_Exam_Score']\n",
    "]\n",
    "\n",
    "# Scale and convert to tensor\n",
    "example_scaled = scaler.transform([example_encoded])\n",
    "example_tensor = torch.FloatTensor(example_scaled)\n",
    "\n",
    "# Make prediction\n",
    "model.eval()\n",
    "with torch.no_grad():\n",
    "    output = model(example_tensor)\n",
    "    _, predicted = torch.max(output, 1)\n",
    "    prediction = target_encoder.inverse_transform(predicted.numpy())[0]\n",
    "\n",
    "print(f\"Prediction for example student: {prediction}\")"
   ]
  }
 ],
 "metadata": {
  "kernelspec": {
   "display_name": "base",
   "language": "python",
   "name": "python3"
  },
  "language_info": {
   "codemirror_mode": {
    "name": "ipython",
    "version": 3
   },
   "file_extension": ".py",
   "mimetype": "text/x-python",
   "name": "python",
   "nbconvert_exporter": "python",
   "pygments_lexer": "ipython3",
   "version": "3.13.5"
  }
 },
 "nbformat": 4,
 "nbformat_minor": 4
}
