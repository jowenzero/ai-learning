{
 "cells": [
  {
   "cell_type": "markdown",
   "metadata": {},
   "source": [
    "### Imports"
   ]
  },
  {
   "cell_type": "code",
   "execution_count": 44,
   "id": "88085256",
   "metadata": {},
   "outputs": [],
   "source": [
    "import numpy as np\n",
    "import matplotlib.pyplot as plt\n",
    "import pandas as pd\n",
    "from sklearn.preprocessing import MinMaxScaler\n",
    "from sklearn.model_selection import train_test_split\n",
    "from sklearn.linear_model import LogisticRegression\n",
    "from sklearn.metrics import accuracy_score, confusion_matrix, classification_report\n",
    "import seaborn as sns\n",
    "import matplotlib.pyplot as plt\n",
    "import re\n",
    "import nltk\n",
    "from nltk.corpus import stopwords\n",
    "from nltk.stem import WordNetLemmatizer\n",
    "from sklearn.feature_extraction.text import TfidfVectorizer\n",
    "from sklearn.naive_bayes import MultinomialNB"
   ]
  },
  {
   "cell_type": "markdown",
   "id": "b61c4843",
   "metadata": {},
   "source": [
    "### Dataset Import and Inspection"
   ]
  },
  {
   "cell_type": "code",
   "execution_count": null,
   "id": "2e58c9d2",
   "metadata": {},
   "outputs": [
    {
     "name": "stdout",
     "output_type": "stream",
     "text": [
      "DataFrame Head:\n",
      "                                                text  label\n",
      "0  I grew up (b. 1965) watching and loving the Th...      0\n",
      "1  When I put this movie in my DVD player, and sa...      0\n",
      "2  Why do people who do not know what a particula...      0\n",
      "3  Even though I have great interest in Biblical ...      0\n",
      "4  Im a die hard Dads Army fan and nothing will e...      1\n",
      "\n",
      "DataFrame Info:\n",
      "<class 'pandas.core.frame.DataFrame'>\n",
      "RangeIndex: 40000 entries, 0 to 39999\n",
      "Data columns (total 2 columns):\n",
      " #   Column  Non-Null Count  Dtype \n",
      "---  ------  --------------  ----- \n",
      " 0   text    40000 non-null  object\n",
      " 1   label   40000 non-null  int64 \n",
      "dtypes: int64(1), object(1)\n",
      "memory usage: 625.1+ KB\n"
     ]
    }
   ],
   "source": [
    "df = pd.read_csv('movie.csv')\n",
    "# Display the head of the dataframe\n",
    "print('DataFrame Head:')\n",
    "print(df.head())\n",
    "\n",
    "# Display the column information\n",
    "print('\\nDataFrame Info:')\n",
    "df.info()"
   ]
  },
  {
   "cell_type": "markdown",
   "id": "f38f021c",
   "metadata": {},
   "source": [
    "### Text Preprocessing: Case Folding, Punctuation/HTML Removal, Stop Word Removal, and Lemmatization"
   ]
  },
  {
   "cell_type": "code",
   "execution_count": 46,
   "id": "nlp-setup",
   "metadata": {},
   "outputs": [
    {
     "name": "stdout",
     "output_type": "stream",
     "text": [
      "NLTK setup complete.\n"
     ]
    }
   ],
   "source": [
    "# Download NLTK resources (if not already downloaded)\n",
    "# Only runs the download if the resource is missing\n",
    "try:\n",
    "    stopwords.words('english')\n",
    "except LookupError:\n",
    "    nltk.download('stopwords')\n",
    "try:\n",
    "    WordNetLemmatizer()\n",
    "except LookupError:\n",
    "    nltk.download('wordnet')\n",
    "\n",
    "print(\"NLTK setup complete.\")"
   ]
  },
  {
   "cell_type": "code",
   "execution_count": 47,
   "id": "preprocess-func",
   "metadata": {},
   "outputs": [
    {
     "name": "stdout",
     "output_type": "stream",
     "text": [
      "Preprocessing function defined.\n"
     ]
    }
   ],
   "source": [
    "lemmatizer = WordNetLemmatizer()\n",
    "stop_words = set(stopwords.words('english'))\n",
    "\n",
    "def preprocess_text(text):\n",
    "    \"\"\"Applies case folding, HTML/punctuation removal, stop word removal, and lemmatization.\"\"\"\n",
    "    \n",
    "    # 1. HTML Tag Removal (Addressing data specific noise like <br />)\n",
    "    text = re.sub(r'<[^>]*>', '', text)\n",
    "    \n",
    "    # 2. Case Folding\n",
    "    text = text.lower()\n",
    "    \n",
    "    # 3. Punctuation and Non-Alphabetic Character Removal (replaces with space)\n",
    "    # This also removes numbers, which are typically noise in text classification\n",
    "    text = re.sub(r'[^a-z\\s]', ' ', text)\n",
    "    \n",
    "    # Tokenize by splitting on spaces\n",
    "    words = text.split()\n",
    "    \n",
    "    # 4. Stop Word Removal and Lemmatization\n",
    "    processed_words = []\n",
    "    for word in words:\n",
    "        # Skip empty strings resulting from multiple spaces and check for stop words\n",
    "        if word and word not in stop_words:\n",
    "            # 5. Lemmatize (default assumes word is a noun, 'n')\n",
    "            lemmatized_word = lemmatizer.lemmatize(word)\n",
    "            processed_words.append(lemmatized_word)\n",
    "            \n",
    "    # Rejoin the words into a single string\n",
    "    return ' '.join(processed_words)\n",
    "\n",
    "print(\"Preprocessing function defined.\")"
   ]
  },
  {
   "cell_type": "code",
   "execution_count": 48,
   "id": "apply-preprocess",
   "metadata": {},
   "outputs": [
    {
     "name": "stdout",
     "output_type": "stream",
     "text": [
      "Applying preprocessing to the 'text' column...\n",
      "Preprocessing complete.\n"
     ]
    }
   ],
   "source": [
    "print(\"Applying preprocessing to the 'text' column...\")\n",
    "# Apply the function to the 'text' column and store the result in a new column\n",
    "df['processed_text'] = df['text'].apply(preprocess_text)\n",
    "print(\"Preprocessing complete.\")"
   ]
  },
  {
   "cell_type": "code",
   "execution_count": 49,
   "id": "display-results",
   "metadata": {},
   "outputs": [
    {
     "name": "stdout",
     "output_type": "stream",
     "text": [
      "Processed DataFrame Head:\n",
      "                                                text  \\\n",
      "0  I grew up (b. 1965) watching and loving the Th...   \n",
      "1  When I put this movie in my DVD player, and sa...   \n",
      "2  Why do people who do not know what a particula...   \n",
      "3  Even though I have great interest in Biblical ...   \n",
      "4  Im a die hard Dads Army fan and nothing will e...   \n",
      "\n",
      "                                      processed_text  label  \n",
      "0  grew b watching loving thunderbird mate school...      0  \n",
      "1  put movie dvd player sat coke chip expectation...      0  \n",
      "2  people know particular time past like feel nee...      0  \n",
      "3  even though great interest biblical movie bore...      0  \n",
      "4  im die hard dad army fan nothing ever change g...      1  \n"
     ]
    }
   ],
   "source": [
    "print(\"Processed DataFrame Head:\")\n",
    "print(df[['text', 'processed_text', 'label']].head())"
   ]
  },
  {
   "cell_type": "markdown",
   "id": "9db8378f",
   "metadata": {},
   "source": [
    "### TF-IDF Vectorization"
   ]
  },
  {
   "cell_type": "code",
   "execution_count": 50,
   "id": "tfidf-vectorizer",
   "metadata": {},
   "outputs": [
    {
     "name": "stdout",
     "output_type": "stream",
     "text": [
      "Shape of TF-IDF Matrix (Documents x Features): (40000, 83338)\n",
      "The TF-IDF matrix (X_features) is a sparse matrix of size 40000 x 83338.\n"
     ]
    }
   ],
   "source": [
    "# Initialize the TfidfVectorizer\n",
    "# We will use the 'processed_text' column for vectorization.\n",
    "vectorizer = TfidfVectorizer(max_features=None) \n",
    "\n",
    "# Fit and transform the processed text data\n",
    "X_features = vectorizer.fit_transform(df['processed_text'])\n",
    "\n",
    "# Display the shape of the resulting feature matrix\n",
    "print(f\"Shape of TF-IDF Matrix (Documents x Features): {X_features.shape}\")\n",
    "print(\"The TF-IDF matrix (X_features) is a sparse matrix of size {} x {}.\".format(X_features.shape[0], X_features.shape[1]))"
   ]
  },
  {
   "cell_type": "markdown",
   "id": "2486226e",
   "metadata": {},
   "source": [
    "### Data Splitting for Training and Testing"
   ]
  },
  {
   "cell_type": "code",
   "execution_count": 51,
   "id": "data-split",
   "metadata": {},
   "outputs": [
    {
     "name": "stdout",
     "output_type": "stream",
     "text": [
      "Data splitting complete.\n",
      "X_train shape: (32000, 83338)\n",
      "X_test shape: (8000, 83338)\n",
      "y_train shape: (32000,)\n",
      "y_test shape: (8000,)\n"
     ]
    }
   ],
   "source": [
    "# Extract the feature matrix X and the labels y\n",
    "X = X_features\n",
    "y = df['label']\n",
    "\n",
    "# Split data into training (80%) and testing (20%) sets\n",
    "X_train, X_test, y_train, y_test = train_test_split(X, y, test_size=0.2, random_state=42)\n",
    "\n",
    "print(\"Data splitting complete.\")\n",
    "print(f\"X_train shape: {X_train.shape}\")\n",
    "print(f\"X_test shape: {X_test.shape}\")\n",
    "print(f\"y_train shape: {y_train.shape}\")\n",
    "print(f\"y_test shape: {y_test.shape}\")"
   ]
  },
  {
   "cell_type": "markdown",
   "id": "8cc30238",
   "metadata": {},
   "source": [
    "### Model Training: Naive Bayes Classifier"
   ]
  },
  {
   "cell_type": "code",
   "execution_count": 52,
   "id": "naive-bayes-train",
   "metadata": {},
   "outputs": [
    {
     "name": "stdout",
     "output_type": "stream",
     "text": [
      "Training Naive Bayes model...\n",
      "Model training complete.\n"
     ]
    }
   ],
   "source": [
    "# Initialize the Multinomial Naive Bayes model (suited for count/frequency features like TF-IDF)\n",
    "nb_model = MultinomialNB()\n",
    "\n",
    "# Train the model using the training data\n",
    "print(\"Training Naive Bayes model...\")\n",
    "nb_model.fit(X_train, y_train)\n",
    "print(\"Model training complete.\")"
   ]
  },
  {
   "cell_type": "markdown",
   "id": "bd008889",
   "metadata": {},
   "source": [
    "### Model Evaluation"
   ]
  },
  {
   "cell_type": "code",
   "execution_count": 53,
   "id": "model-evaluation",
   "metadata": {},
   "outputs": [
    {
     "name": "stdout",
     "output_type": "stream",
     "text": [
      "Model Accuracy: 0.8656\n",
      "\n",
      "Confusion Matrix:\n",
      " [[3509  457]\n",
      " [ 618 3416]]\n",
      "\n",
      "Classification Report:\n",
      "               precision    recall  f1-score   support\n",
      "\n",
      "Negative (0)       0.85      0.88      0.87      3966\n",
      "Positive (1)       0.88      0.85      0.86      4034\n",
      "\n",
      "    accuracy                           0.87      8000\n",
      "   macro avg       0.87      0.87      0.87      8000\n",
      "weighted avg       0.87      0.87      0.87      8000\n",
      "\n"
     ]
    },
    {
     "data": {
      "image/png": "[encoded data removed]",
      "text/plain": [
       "<Figure size 800x600 with 1 Axes>"
      ]
     },
     "metadata": {},
     "output_type": "display_data"
    }
   ],
   "source": [
    "# 1. Make predictions on the test set\n",
    "y_pred = nb_model.predict(X_test)\n",
    "\n",
    "# Evaluate the model\n",
    "accuracy = accuracy_score(y_test, y_pred)\n",
    "cm = confusion_matrix(y_test, y_pred)\n",
    "report = classification_report(y_test, y_pred, target_names=['Negative (0)', 'Positive (1)'])\n",
    "\n",
    "print(f\"Model Accuracy: {accuracy:.4f}\\n\")\n",
    "print(\"Confusion Matrix:\\n\", cm)\n",
    "print(\"\\nClassification Report:\\n\", report)\n",
    "\n",
    "# Plot Confusion Matrix\n",
    "plt.figure(figsize=(8, 6))\n",
    "sns.heatmap(cm, annot=True, fmt='d', cmap='Blues', cbar=False,\n",
    "            xticklabels=['Predicted Negative (0)', 'Predicted Positive (1)'],\n",
    "            yticklabels=['Actual Negative (0)', 'Actual Positive (1)'])\n",
    "plt.title('Confusion Matrix for Naive Bayes Model')\n",
    "plt.ylabel('True Label')\n",
    "plt.xlabel('Predicted Label')\n",
    "plt.show()"
   ]
  }
 ],
 "metadata": {
  "kernelspec": {
   "display_name": "Python 3",
   "language": "python",
   "name": "python3"
  },
  "language_info": {
   "codemirror_mode": {
    "name": "ipython",
    "version": 3
   },
   "file_extension": ".py",
   "mimetype": "text/x-python",
   "name": "python",
   "nbconvert_exporter": "python",
   "pygments_lexer": "ipython3",
   "version": "3.11.4"
  }
 },
 "nbformat": 4,
 "nbformat_minor": 5
}
